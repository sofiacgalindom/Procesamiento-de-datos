{
  "nbformat": 4,
  "nbformat_minor": 0,
  "metadata": {
    "colab": {
      "provenance": []
    },
    "kernelspec": {
      "name": "python3",
      "display_name": "Python 3"
    },
    "language_info": {
      "name": "python"
    }
  },
  "cells": [
    {
      "cell_type": "markdown",
      "source": [
        "#Procesamiento de Datos 2024 - 10\n",
        "\n",
        "#Taller 00: Introducción a Lenguaje de Programación Python\n",
        "\n",
        "#Sofia Catalina Galindo Mora\n",
        "\n",
        "#Ciencia de Datos\n"
      ],
      "metadata": {
        "id": "uBW44bFsc2bE"
      }
    },
    {
      "cell_type": "markdown",
      "source": [
        "# **01-Python-Cadenas/ Operaciones con Cadenas**"
      ],
      "metadata": {
        "id": "-7Mx88fmdscn"
      }
    },
    {
      "cell_type": "markdown",
      "source": [
        "a. ¿Cual es el valor de la variable `A` después de ejecutar el siguiente código?"
      ],
      "metadata": {
        "id": "p5e-lBmLeD1d"
      }
    },
    {
      "cell_type": "code",
      "source": [
        "A= \"1\"\n",
        "print(A)"
      ],
      "metadata": {
        "colab": {
          "base_uri": "https://localhost:8080/"
        },
        "id": "76x1-ZmLdsGr",
        "outputId": "90f5d27d-e9b3-4ea7-db29-c42b814ae73e"
      },
      "execution_count": 66,
      "outputs": [
        {
          "output_type": "stream",
          "name": "stdout",
          "text": [
            "1\n"
          ]
        }
      ]
    },
    {
      "cell_type": "markdown",
      "source": [
        "El valor de la variable A es 1"
      ],
      "metadata": {
        "id": "1-Hwb4KeemM2"
      }
    },
    {
      "cell_type": "markdown",
      "source": [
        "b. ¿Cual es el valor de la variable `B` después de ejecutar el siguiente código?"
      ],
      "metadata": {
        "id": "YAO7nutye1Zk"
      }
    },
    {
      "cell_type": "code",
      "source": [
        "B=\"2\"\n",
        "print(B)"
      ],
      "metadata": {
        "colab": {
          "base_uri": "https://localhost:8080/"
        },
        "id": "pmGeLbvyelRZ",
        "outputId": "430bba6f-d107-4c08-cb9f-aa7cf71283e1"
      },
      "execution_count": 67,
      "outputs": [
        {
          "output_type": "stream",
          "name": "stdout",
          "text": [
            "2\n"
          ]
        }
      ]
    },
    {
      "cell_type": "markdown",
      "source": [
        "El valor de la variable B es 2"
      ],
      "metadata": {
        "id": "WXgoTnnpe9rg"
      }
    },
    {
      "cell_type": "markdown",
      "source": [
        "c. ¿Cual es el valor de la variable `C` después de ejecutar el siguiente código?"
      ],
      "metadata": {
        "id": "aGmpW47QfCSA"
      }
    },
    {
      "cell_type": "code",
      "source": [
        "C=A + B\n",
        "print(C)"
      ],
      "metadata": {
        "colab": {
          "base_uri": "https://localhost:8080/"
        },
        "id": "Ij_sf17jfDun",
        "outputId": "c1cf6c79-9267-4940-b9ca-86ae09861b78"
      },
      "execution_count": 68,
      "outputs": [
        {
          "output_type": "stream",
          "name": "stdout",
          "text": [
            "12\n"
          ]
        }
      ]
    },
    {
      "cell_type": "markdown",
      "source": [
        "El valor de la variable C es igual a \"12\" ya que se unen los caracteres A=\"1\" y B=\"2\" por lo tanto A+B=12\n"
      ],
      "metadata": {
        "id": "jyYKuy_ViDL2"
      }
    },
    {
      "cell_type": "markdown",
      "source": [
        "d. En la variable `D` haz uso del slicing para imprimir solo los primeros tres elementos:"
      ],
      "metadata": {
        "id": "1t9K2EOGi1DI"
      }
    },
    {
      "cell_type": "code",
      "source": [
        "D=\"ABCDEFG\"\n",
        "print(D[0:3])"
      ],
      "metadata": {
        "colab": {
          "base_uri": "https://localhost:8080/"
        },
        "id": "mBEApx4FdrYv",
        "outputId": "3f9d617c-f3a0-4263-bdeb-e5f44567644b"
      },
      "execution_count": 71,
      "outputs": [
        {
          "output_type": "stream",
          "name": "stdout",
          "text": [
            "ABC\n"
          ]
        }
      ]
    },
    {
      "cell_type": "markdown",
      "source": [
        "La salida es \"ABC\", que corresponde a los caracteres en la posición 0, 1 y 2 de la cadena D"
      ],
      "metadata": {
        "id": "rhv-Oj5IjgV8"
      }
    },
    {
      "cell_type": "markdown",
      "source": [
        "e. Usa un valor de stride de 2 para imprimir cada segundo elemento de la cadena `E`:"
      ],
      "metadata": {
        "id": "WHu_0FK5jrSE"
      }
    },
    {
      "cell_type": "code",
      "source": [
        "E = 'clocrkr1e1c1t'\n",
        "E[::2]"
      ],
      "metadata": {
        "colab": {
          "base_uri": "https://localhost:8080/",
          "height": 35
        },
        "id": "VxgbT1BNjf9v",
        "outputId": "fe2dadbc-ebd1-4a90-a4fa-c19cffe33e23"
      },
      "execution_count": 70,
      "outputs": [
        {
          "output_type": "execute_result",
          "data": {
            "text/plain": [
              "'correct'"
            ],
            "application/vnd.google.colaboratory.intrinsic+json": {
              "type": "string"
            }
          },
          "metadata": {},
          "execution_count": 70
        }
      ]
    },
    {
      "cell_type": "markdown",
      "source": [
        "La salida de `E[::2]` es una nueva cadena que contiene cada segundo carácter de la cadena original 'clocrkr1e1c1t'"
      ],
      "metadata": {
        "id": "jQ3odJlVj8ip"
      }
    },
    {
      "cell_type": "markdown",
      "source": [
        "f. Imprime una barra invertida"
      ],
      "metadata": {
        "id": "stQQqaOukHvp"
      }
    },
    {
      "cell_type": "code",
      "source": [
        "print(\"\\\\\")"
      ],
      "metadata": {
        "colab": {
          "base_uri": "https://localhost:8080/"
        },
        "id": "jrkOIPv5c1Um",
        "outputId": "42369ced-3d4b-4bff-95da-64ab8381bee2"
      },
      "execution_count": 72,
      "outputs": [
        {
          "output_type": "stream",
          "name": "stdout",
          "text": [
            "\\\n"
          ]
        }
      ]
    },
    {
      "cell_type": "markdown",
      "source": [
        "La salida de `print(\"\\\\\")` es una barra invertida \"\\\\\".\n"
      ],
      "metadata": {
        "id": "JK9ZNXlmkWy0"
      }
    },
    {
      "cell_type": "markdown",
      "source": [
        "g. Convierte el mayúsculas el contenido de la variable `F`:"
      ],
      "metadata": {
        "id": "losL85e8kg-z"
      }
    },
    {
      "cell_type": "code",
      "source": [
        "F = \"You are wrong\"\n",
        "g= F.upper()\n",
        "print(g)"
      ],
      "metadata": {
        "colab": {
          "base_uri": "https://localhost:8080/"
        },
        "id": "KQHC_BoHkjSI",
        "outputId": "c7fc47c0-bd68-4a2f-8ca3-a4e482cb9e0e"
      },
      "execution_count": 73,
      "outputs": [
        {
          "output_type": "stream",
          "name": "stdout",
          "text": [
            "YOU ARE WRONG\n"
          ]
        }
      ]
    },
    {
      "cell_type": "markdown",
      "source": [
        "La salida de `print(g)` es \"YOU ARE WRONG\", ya que `g` contiene el resultado de convertir la cadena \"You are wrong\" a mayúsculas utilizando el método `upper()`"
      ],
      "metadata": {
        "id": "wZOHPG6kk_Mj"
      }
    },
    {
      "cell_type": "markdown",
      "source": [
        "h. En la variable `G`, encuentra el primer índice de la sub-cadena snow:"
      ],
      "metadata": {
        "id": "lsrRg8dqlK2X"
      }
    },
    {
      "cell_type": "code",
      "source": [
        "G = \"Mary had a little lamb Little lamb, little lamb Mary had a little lamb \\\n",
        "Its fleece was white as snow And everywhere that Mary went Mary went, Mary went \\\n",
        "Everywhere that Mary went The lamb was sure to go\"\n",
        "G.find(\"snow\")"
      ],
      "metadata": {
        "colab": {
          "base_uri": "https://localhost:8080/"
        },
        "id": "G3VhRebclPCA",
        "outputId": "0bf5713f-366c-4669-890f-76a3d44f35c4"
      },
      "execution_count": 74,
      "outputs": [
        {
          "output_type": "execute_result",
          "data": {
            "text/plain": [
              "95"
            ]
          },
          "metadata": {},
          "execution_count": 74
        }
      ]
    },
    {
      "cell_type": "markdown",
      "source": [
        "La salida de `G.find(\"snow\")` es 95, utilizando el método `find()` que devuelve el índice de la primera aparición de la subcadena \"snow\" dentro de la cadena de la variable `G`"
      ],
      "metadata": {
        "id": "Ijp5o_G9lmRy"
      }
    },
    {
      "cell_type": "markdown",
      "source": [
        "i. En la variable `G`, reemplaza la sub-cadena `Mary` con `Bob`:"
      ],
      "metadata": {
        "id": "gNYqDsB8nLYU"
      }
    },
    {
      "cell_type": "code",
      "source": [
        "G = \"Mary had a little lamb Little lamb, little lamb Mary had a little lamb \\\n",
        "Its fleece was white as snow And everywhere that Mary went Mary went, Mary went \\\n",
        "Everywhere that Mary went The lamb was sure to go\"\n",
        "\n",
        "r=G.replace(\"Mary\", \"Bob\")\n",
        "print(r)"
      ],
      "metadata": {
        "colab": {
          "base_uri": "https://localhost:8080/"
        },
        "id": "N8oKSXrGnbvt",
        "outputId": "81cb0cb9-40ae-4d89-9c11-c8b5ee98cab5"
      },
      "execution_count": 75,
      "outputs": [
        {
          "output_type": "stream",
          "name": "stdout",
          "text": [
            "Bob had a little lamb Little lamb, little lamb Bob had a little lamb Its fleece was white as snow And everywhere that Bob went Bob went, Bob went Everywhere that Bob went The lamb was sure to go\n"
          ]
        }
      ]
    },
    {
      "cell_type": "markdown",
      "source": [
        "La salida de `print(r)` es una cadena donde todas las apariciones de \"Mary\" han sido reemplazadas por \"Bob\" utilizando el método `replace()`"
      ],
      "metadata": {
        "id": "fIYACoRVnzBU"
      }
    },
    {
      "cell_type": "markdown",
      "source": [
        "# **02-Python-Tuplas**"
      ],
      "metadata": {
        "id": "thQfyIx_oElL"
      }
    },
    {
      "cell_type": "markdown",
      "source": [
        "Considérese la siguiente tupla:\n",
        "\n",
        "genres_tuple = (\"pop\", \"rock\", \"soul\", \"hard rock\", \"soft rock\", \\\n",
        "                \"R&B\", \"progressive rock\", \"disco\")\n",
        "genres_tuple"
      ],
      "metadata": {
        "id": "gFvmT6i1odC_"
      }
    },
    {
      "cell_type": "markdown",
      "source": [
        "a. Encontrar la longitud de la tupla, genres_tuple:"
      ],
      "metadata": {
        "id": "jjX9s3PKpGFJ"
      }
    },
    {
      "cell_type": "code",
      "source": [
        "genres_tuple = (\"pop\", \"rock\", \"soul\", \"hard rock\", \"soft rock\", \\\n",
        "                \"R&B\", \"progressive rock\", \"disco\")\n",
        "genres_tuple\n",
        "len(genres_tuple)"
      ],
      "metadata": {
        "colab": {
          "base_uri": "https://localhost:8080/"
        },
        "id": "u1Bvewh2ocWa",
        "outputId": "69ef87b8-d9c5-4351-f284-cf543b52a479"
      },
      "execution_count": 76,
      "outputs": [
        {
          "output_type": "execute_result",
          "data": {
            "text/plain": [
              "8"
            ]
          },
          "metadata": {},
          "execution_count": 76
        }
      ]
    },
    {
      "cell_type": "markdown",
      "source": [
        "la salida de len(genres_tuple) es 8, que representa la longitud (número de elementos) de la tupla genres_tuple"
      ],
      "metadata": {
        "id": "3BiUiDW9pkOe"
      }
    },
    {
      "cell_type": "markdown",
      "source": [
        "b. Accede al elemento en el índice 3:"
      ],
      "metadata": {
        "id": "IyiUe5nhpmRg"
      }
    },
    {
      "cell_type": "code",
      "source": [
        "genres_tuple[3]"
      ],
      "metadata": {
        "colab": {
          "base_uri": "https://localhost:8080/",
          "height": 35
        },
        "id": "BNQZLEo4prtu",
        "outputId": "d3e2cf6c-3f40-4e1b-8193-292228046c7f"
      },
      "execution_count": 77,
      "outputs": [
        {
          "output_type": "execute_result",
          "data": {
            "text/plain": [
              "'hard rock'"
            ],
            "application/vnd.google.colaboratory.intrinsic+json": {
              "type": "string"
            }
          },
          "metadata": {},
          "execution_count": 77
        }
      ]
    },
    {
      "cell_type": "markdown",
      "source": [
        "La salida de `genres_tuple[3]` es \"hard rock\", que es el elemento en la posición 3 (indexada desde 0) de la tupla `genres_tuple`"
      ],
      "metadata": {
        "id": "Aa-lZARmpsX7"
      }
    },
    {
      "cell_type": "markdown",
      "source": [
        "c. Utiliza el slicing para obtener los índices 3, 4 y 5:"
      ],
      "metadata": {
        "id": "2ZlIKWjLp47l"
      }
    },
    {
      "cell_type": "code",
      "source": [
        "genres_tuple[3:6]"
      ],
      "metadata": {
        "colab": {
          "base_uri": "https://localhost:8080/"
        },
        "id": "SsZXAJw7p3gS",
        "outputId": "e9c6179a-1cd2-4bc0-a369-a836649a12d2"
      },
      "execution_count": 78,
      "outputs": [
        {
          "output_type": "execute_result",
          "data": {
            "text/plain": [
              "('hard rock', 'soft rock', 'R&B')"
            ]
          },
          "metadata": {},
          "execution_count": 78
        }
      ]
    },
    {
      "cell_type": "markdown",
      "source": [
        "La salida de `genres_tuple[3:6]`  es `(\"hard rock\", \"soft rock\", \"R&B\")`, que representa una sub-tupla que contiene los elementos desde la posición 3 hasta la posición 5, sin incluir la posición 6, de la tupla `genres_tuple`"
      ],
      "metadata": {
        "id": "akceXeIxp4GM"
      }
    },
    {
      "cell_type": "markdown",
      "source": [
        "d. Encuentra los primeros dos elementos de la tupla genres_tuple:"
      ],
      "metadata": {
        "id": "OUXUpYcCqPRU"
      }
    },
    {
      "cell_type": "code",
      "source": [
        "genres_tuple[0:2]"
      ],
      "metadata": {
        "colab": {
          "base_uri": "https://localhost:8080/"
        },
        "id": "Q5oysBlfqS7e",
        "outputId": "ffd5596d-c733-4698-b63e-f2181e450c11"
      },
      "execution_count": 79,
      "outputs": [
        {
          "output_type": "execute_result",
          "data": {
            "text/plain": [
              "('pop', 'rock')"
            ]
          },
          "metadata": {},
          "execution_count": 79
        }
      ]
    },
    {
      "cell_type": "markdown",
      "source": [
        "La salida de `genres_tuple[0:2]` es `(\"pop\", \"rock\")`, que representa una sub-tupla que contiene los elementos desde la posición 0 hasta la posición 1"
      ],
      "metadata": {
        "id": "iONGSCNmqYBH"
      }
    },
    {
      "cell_type": "markdown",
      "source": [
        "e. Encuentra el primer índice de \"disco\":"
      ],
      "metadata": {
        "id": "T4vTEPxrqXTr"
      }
    },
    {
      "cell_type": "code",
      "source": [
        "for z in genres_tuple:\n",
        "  if z == \"disco\":\n",
        "    print(z[0:1])"
      ],
      "metadata": {
        "colab": {
          "base_uri": "https://localhost:8080/"
        },
        "id": "f9WAt7o6qWrf",
        "outputId": "53a30552-7b42-4fc0-ee9e-0a92d957086e"
      },
      "execution_count": 80,
      "outputs": [
        {
          "output_type": "stream",
          "name": "stdout",
          "text": [
            "d\n"
          ]
        }
      ]
    },
    {
      "cell_type": "markdown",
      "source": [
        "La salida es `d`, ya que itera sobre cada elemento `z` en `genres_tuple`, verifica si `z` es \"disco\", y luego imprime el primer carácter de \"disco\" si la condición es verdadera"
      ],
      "metadata": {
        "id": "aAQhPWG5rDY8"
      }
    },
    {
      "cell_type": "markdown",
      "source": [
        "f. Genera una lista ordenada desde la tupla C_tuple=(-5, 1, -3):"
      ],
      "metadata": {
        "id": "_JD6qqydrKyZ"
      }
    },
    {
      "cell_type": "code",
      "source": [
        "C_tuple=(-5, 1, -3)\n",
        "a=sorted(C_tuple)\n",
        "print(a)"
      ],
      "metadata": {
        "colab": {
          "base_uri": "https://localhost:8080/"
        },
        "id": "p3iaKratrMKL",
        "outputId": "26cd3415-8dc7-4cae-b49a-05e719538439"
      },
      "execution_count": 81,
      "outputs": [
        {
          "output_type": "stream",
          "name": "stdout",
          "text": [
            "[-5, -3, 1]\n"
          ]
        }
      ]
    },
    {
      "cell_type": "markdown",
      "source": [
        "La salida es `[-5, -3, 1]`, que muestra una lista ordenada de manera ascendente de los elementos de la tupla `C_tuple`, utilizando la función `sorted()`"
      ],
      "metadata": {
        "id": "wKgjXZrYrMgS"
      }
    },
    {
      "cell_type": "markdown",
      "source": [
        "# **03-Python-Listas**"
      ],
      "metadata": {
        "id": "3j_TiLjmsEZy"
      }
    },
    {
      "cell_type": "markdown",
      "source": [
        "a. Crea una lista a_lit con los siguientes elementos 1, hello, [1,2,3] y True."
      ],
      "metadata": {
        "id": "_O9jBp60sODz"
      }
    },
    {
      "cell_type": "code",
      "source": [
        "a_lit=[1, \"hello\", [1,2,3], \"True\"]\n",
        "print(a_lit)"
      ],
      "metadata": {
        "colab": {
          "base_uri": "https://localhost:8080/"
        },
        "id": "Bk32OZjesSwV",
        "outputId": "ba82dc61-6598-44c2-a564-a39174af0664"
      },
      "execution_count": 82,
      "outputs": [
        {
          "output_type": "stream",
          "name": "stdout",
          "text": [
            "[1, 'hello', [1, 2, 3], 'True']\n"
          ]
        }
      ]
    },
    {
      "cell_type": "markdown",
      "source": [
        "La salida  es `[1, \"hello\", [1, 2, 3], \"True\"]`, que muestra una lista que contiene un entero, una cadena de texto, una lista y otra cadena de texto"
      ],
      "metadata": {
        "id": "ZY958AxnsNz3"
      }
    },
    {
      "cell_type": "markdown",
      "source": [
        "b. Encuentra el valor almacenado en el índice 1 de a_list."
      ],
      "metadata": {
        "id": "KhDhmNvisfHZ"
      }
    },
    {
      "cell_type": "code",
      "source": [
        "print(a_lit[1:2])"
      ],
      "metadata": {
        "colab": {
          "base_uri": "https://localhost:8080/"
        },
        "id": "mWvezE5yswQd",
        "outputId": "02e4fe9f-58ba-4b7a-c216-4714a428e2a7"
      },
      "execution_count": 83,
      "outputs": [
        {
          "output_type": "stream",
          "name": "stdout",
          "text": [
            "['hello']\n"
          ]
        }
      ]
    },
    {
      "cell_type": "markdown",
      "source": [
        "La salida   es `[\"hello\"]`, que muestra una sublista que contiene solo el elemento en la posición 1 de la lista `a_lit`"
      ],
      "metadata": {
        "id": "wh6Qk0FSsw2e"
      }
    },
    {
      "cell_type": "markdown",
      "source": [
        "c. Obtén el elemento almacenado en el índice 1, 2 y 3 de a_list."
      ],
      "metadata": {
        "id": "8gfFmQGPtCTm"
      }
    },
    {
      "cell_type": "code",
      "source": [
        "print(a_lit[1:4])"
      ],
      "metadata": {
        "colab": {
          "base_uri": "https://localhost:8080/"
        },
        "id": "DQHiZ__jtHgz",
        "outputId": "cfce8561-abcb-4039-af77-426ca7f39a3a"
      },
      "execution_count": 85,
      "outputs": [
        {
          "output_type": "stream",
          "name": "stdout",
          "text": [
            "['hello', [1, 2, 3], 'True']\n"
          ]
        }
      ]
    },
    {
      "cell_type": "markdown",
      "source": [
        "La salida es `[\"hello\", [1, 2, 3], \"True\"]`, que muestra una sublista que contiene los elementos desde la posición 1 hasta la posición 3, sin incluir la posición 4"
      ],
      "metadata": {
        "id": "638GQTtytIS0"
      }
    },
    {
      "cell_type": "markdown",
      "source": [
        "d. Concatena las siguientes listas A = [1, 'a'] y B = [2, 1, 'd']:"
      ],
      "metadata": {
        "id": "tDtxT_GItIC8"
      }
    },
    {
      "cell_type": "code",
      "source": [
        "A = [1, 'a']\n",
        "B = [2, 1, 'd']\n",
        "\n",
        "lista= A+B\n",
        "print(lista)"
      ],
      "metadata": {
        "colab": {
          "base_uri": "https://localhost:8080/"
        },
        "id": "MgyRQzZOtI8u",
        "outputId": "ba7d97c4-6fe6-4f46-ccdc-9c8b753c6485"
      },
      "execution_count": 86,
      "outputs": [
        {
          "output_type": "stream",
          "name": "stdout",
          "text": [
            "[1, 'a', 2, 1, 'd']\n"
          ]
        }
      ]
    },
    {
      "cell_type": "markdown",
      "source": [
        "La salida es `[1, 'a', 2, 1, 'd']`, que muestra una nueva lista que contiene los elementos de la lista `A` seguidos por los elementos de la lista `B`, en ese orden"
      ],
      "metadata": {
        "id": "V10SWo30t18d"
      }
    },
    {
      "cell_type": "markdown",
      "source": [
        "# **04-Python-Conjuntos.**"
      ],
      "metadata": {
        "id": "0lBxZUr5uKVD"
      }
    },
    {
      "cell_type": "markdown",
      "source": [
        "a. Transformar la lista ['rap','house','electronic music', 'rap'] en un conjunto:"
      ],
      "metadata": {
        "id": "sPYjJo-4ufsl"
      }
    },
    {
      "cell_type": "code",
      "source": [
        "lista=['rap','house','electronic music', 'rap']\n",
        "\n",
        "conjunto=set(lista)\n",
        "print(conjunto)"
      ],
      "metadata": {
        "colab": {
          "base_uri": "https://localhost:8080/"
        },
        "id": "b-h1osH1uilv",
        "outputId": "ada2c93c-ed22-4c1c-a391-bb623c36d0af"
      },
      "execution_count": 87,
      "outputs": [
        {
          "output_type": "stream",
          "name": "stdout",
          "text": [
            "{'house', 'rap', 'electronic music'}\n"
          ]
        }
      ]
    },
    {
      "cell_type": "markdown",
      "source": [
        "La salida es `{'house', 'rap', 'electronic music'}`, que muestra un conjunto que contiene elementos únicos de la lista `lista`, eliminando duplicados"
      ],
      "metadata": {
        "id": "pts5dk9RvRtC"
      }
    },
    {
      "cell_type": "markdown",
      "source": [
        "b. Considera que la lista A = [1, 2, 2, 1] y el conjunto B = set([1, 2, 2, 1]) suman sum(A) = sum(B)"
      ],
      "metadata": {
        "id": "uq068BUKujCF"
      }
    },
    {
      "cell_type": "code",
      "source": [
        "A = ([1, 2, 2, 1])\n",
        "B = set([1, 2, 2, 1])\n",
        "B.union(A)"
      ],
      "metadata": {
        "colab": {
          "base_uri": "https://localhost:8080/"
        },
        "id": "uD4ghmUnvte6",
        "outputId": "b684403a-bc91-4219-8232-b7f990b6533a"
      },
      "execution_count": 88,
      "outputs": [
        {
          "output_type": "execute_result",
          "data": {
            "text/plain": [
              "{1, 2}"
            ]
          },
          "metadata": {},
          "execution_count": 88
        }
      ]
    },
    {
      "cell_type": "markdown",
      "source": [
        "La salida  es `{1, 2}`, que representa la unión de los conjuntos `A` y `B`, se automáticamente los elementos duplicados, por lo que la unión de ambos conjuntos solo contiene los elementos únicos presentes en ambos conjuntos"
      ],
      "metadata": {
        "id": "tThjOuVsv3vC"
      }
    },
    {
      "cell_type": "markdown",
      "source": [
        "c. Crea un nuevo conjunto album_set3 que sea la unión de album_set1 y album_set2:"
      ],
      "metadata": {
        "id": "5jFKQWMEv3YE"
      }
    },
    {
      "cell_type": "code",
      "source": [
        "album_set1 = set([\"Thriller\", 'AC/DC', 'Back in Black'])\n",
        "album_set2 = set([ \"AC/DC\", \"Back in Black\", \"The Dark Side of the Moon\"])\n",
        "\n",
        "album_set3 = album_set1.union(album_set2)\n",
        "print(album_set3)"
      ],
      "metadata": {
        "colab": {
          "base_uri": "https://localhost:8080/"
        },
        "id": "2fXHPHWiweJb",
        "outputId": "d918a281-ecba-4275-ff1a-823fa07c2d9f"
      },
      "execution_count": 89,
      "outputs": [
        {
          "output_type": "stream",
          "name": "stdout",
          "text": [
            "{'AC/DC', 'The Dark Side of the Moon', 'Back in Black', 'Thriller'}\n"
          ]
        }
      ]
    },
    {
      "cell_type": "markdown",
      "source": [
        "La salida es `{'AC/DC', 'The Dark Side of the Moon', 'Back in Black', 'Thriller'}`, que muestra un conjunto que contiene todos los elementos únicos de `album_set1` y `album_set2` después de aplicar la operación de unión"
      ],
      "metadata": {
        "id": "eg8NeZfvwojH"
      }
    },
    {
      "cell_type": "markdown",
      "source": [
        "d. Averigua si album_set1 es un subconjunto de album_set3:"
      ],
      "metadata": {
        "id": "dYUpVWgXw6Vp"
      }
    },
    {
      "cell_type": "code",
      "source": [
        "set(album_set1).issubset(album_set3)"
      ],
      "metadata": {
        "colab": {
          "base_uri": "https://localhost:8080/"
        },
        "id": "rezQzIVKw9wx",
        "outputId": "d877097f-7bd7-4858-b62e-d7c9d7c7df26"
      },
      "execution_count": 90,
      "outputs": [
        {
          "output_type": "execute_result",
          "data": {
            "text/plain": [
              "True"
            ]
          },
          "metadata": {},
          "execution_count": 90
        }
      ]
    },
    {
      "cell_type": "markdown",
      "source": [
        "La salida es `True`, lo cual indica que `album_set1` es un subconjunto de `album_set3`\n",
        "\n"
      ],
      "metadata": {
        "id": "m_0Zq5KCxHmg"
      }
    },
    {
      "cell_type": "markdown",
      "source": [
        "# **05-Python-Diccionarios**"
      ],
      "metadata": {
        "id": "2sQS6Cnyxly_"
      }
    },
    {
      "cell_type": "markdown",
      "source": [
        "**Necesitarás este diccionario para las siguientes dos preguntas**:"
      ],
      "metadata": {
        "id": "JzUVrFGxx0aL"
      }
    },
    {
      "cell_type": "code",
      "source": [
        "soundtrack_dic = {\"The Bodyguard\":\"1992\", \"Saturday Night Fever\":\"1977\"}\n",
        "soundtrack_dic"
      ],
      "metadata": {
        "colab": {
          "base_uri": "https://localhost:8080/"
        },
        "id": "Bsn1pyKPx4N2",
        "outputId": "696a01dd-45e4-446e-9aa8-8e39946c9231"
      },
      "execution_count": 91,
      "outputs": [
        {
          "output_type": "execute_result",
          "data": {
            "text/plain": [
              "{'The Bodyguard': '1992', 'Saturday Night Fever': '1977'}"
            ]
          },
          "metadata": {},
          "execution_count": 91
        }
      ]
    },
    {
      "cell_type": "markdown",
      "source": [
        "a) En el diccionario soundtrack_dict. ¿Cuáles son las llaves?"
      ],
      "metadata": {
        "id": "2Ne5RFwbx_D5"
      }
    },
    {
      "cell_type": "code",
      "source": [
        "soundtrack_dic.keys()"
      ],
      "metadata": {
        "colab": {
          "base_uri": "https://localhost:8080/"
        },
        "id": "BPQGbBJvyKOS",
        "outputId": "0502c2b8-58ec-4c4e-eed6-c162d8bf1a27"
      },
      "execution_count": 92,
      "outputs": [
        {
          "output_type": "execute_result",
          "data": {
            "text/plain": [
              "dict_keys(['The Bodyguard', 'Saturday Night Fever'])"
            ]
          },
          "metadata": {},
          "execution_count": 92
        }
      ]
    },
    {
      "cell_type": "markdown",
      "source": [
        "La salida  es `dict_keys(['The Bodyguard', 'Saturday Night Fever'])`, que muestra una vista de las claves del diccionario `soundtrack_dic`."
      ],
      "metadata": {
        "id": "aA4mGr02yUXt"
      }
    },
    {
      "cell_type": "markdown",
      "source": [
        "b) ¿Cuáles son los valores?"
      ],
      "metadata": {
        "id": "liM5CAO6y5xI"
      }
    },
    {
      "cell_type": "code",
      "source": [
        "soundtrack_dic.values()"
      ],
      "metadata": {
        "colab": {
          "base_uri": "https://localhost:8080/"
        },
        "id": "hOPxE1n7y9qO",
        "outputId": "5174100a-713f-41e7-b528-b82ec605931d"
      },
      "execution_count": 93,
      "outputs": [
        {
          "output_type": "execute_result",
          "data": {
            "text/plain": [
              "dict_values(['1992', '1977'])"
            ]
          },
          "metadata": {},
          "execution_count": 93
        }
      ]
    },
    {
      "cell_type": "markdown",
      "source": [
        "La salida es `dict_values(['1992', '1977'])`, que muestra una vista de los valores del diccionario `soundtrack_dic`"
      ],
      "metadata": {
        "id": "BxoBpJzWzAKg"
      }
    },
    {
      "cell_type": "markdown",
      "source": [
        "**Necesitarás este diccionario para las siguientes preguntas:**\n",
        "\n",
        "Los discos **Back in Black, The Bodyguard y Thriller** poseen el siguiente record de ventas en millones, 50, 50 y 65 respectivamente:"
      ],
      "metadata": {
        "id": "yqTZeNaGzECV"
      }
    },
    {
      "cell_type": "markdown",
      "source": [
        "a) Crea un diccionario album_sales_dict donde las llaves sean el nombre del disco y los valores la cantidad de ventas en millones."
      ],
      "metadata": {
        "id": "o6Mv0lHBzjGy"
      }
    },
    {
      "cell_type": "code",
      "source": [
        "album_sales_dict ={\"Back in Black\":50, \"The Bodyguard\":50, \"Thriller\":65}"
      ],
      "metadata": {
        "id": "JSKRDsDPzElB"
      },
      "execution_count": 94,
      "outputs": []
    },
    {
      "cell_type": "markdown",
      "source": [
        "b) Usa el diccionario para encontrar las ventas totales de Thriller:"
      ],
      "metadata": {
        "id": "6dLpujfxzFYN"
      }
    },
    {
      "cell_type": "code",
      "source": [
        "album_sales_dict['Thriller']"
      ],
      "metadata": {
        "colab": {
          "base_uri": "https://localhost:8080/"
        },
        "id": "G1KUS8lPz62q",
        "outputId": "fbae9dd5-262a-41da-e42e-a77ad13c1855"
      },
      "execution_count": 95,
      "outputs": [
        {
          "output_type": "execute_result",
          "data": {
            "text/plain": [
              "65"
            ]
          },
          "metadata": {},
          "execution_count": 95
        }
      ]
    },
    {
      "cell_type": "markdown",
      "source": [
        "La salida es `65`, que muestra el valor de la clave `'Thriller'` en el diccionario `album_sales_dict`, que corresponde a las ventas del álbum \"Thriller\"."
      ],
      "metadata": {
        "id": "zbp_v1Sa0AtW"
      }
    },
    {
      "cell_type": "markdown",
      "source": [
        "c) Encuentra los nombres de los discos dentro del diccionario mediante el método keys:"
      ],
      "metadata": {
        "id": "esDU029fzFUd"
      }
    },
    {
      "cell_type": "code",
      "source": [
        "album_sales_dict.keys()"
      ],
      "metadata": {
        "colab": {
          "base_uri": "https://localhost:8080/"
        },
        "id": "FqMVp2km0fVw",
        "outputId": "93a354a1-5d97-422e-d4e1-9ee13ae1d7a6"
      },
      "execution_count": 96,
      "outputs": [
        {
          "output_type": "execute_result",
          "data": {
            "text/plain": [
              "dict_keys(['Back in Black', 'The Bodyguard', 'Thriller'])"
            ]
          },
          "metadata": {},
          "execution_count": 96
        }
      ]
    },
    {
      "cell_type": "markdown",
      "source": [
        "La salida es `dict_keys(['Back in Black', 'The Bodyguard', 'Thriller'])`, que muestra una vista de las claves del diccionario `album_sales_dict`"
      ],
      "metadata": {
        "id": "cgS_wlewzFBa"
      }
    },
    {
      "cell_type": "markdown",
      "source": [
        "d) Encuentra los records de ventas dentro del diccionario mediante el método values:"
      ],
      "metadata": {
        "id": "9vrD7RRD079X"
      }
    },
    {
      "cell_type": "code",
      "source": [
        "album_sales_dict.values()"
      ],
      "metadata": {
        "colab": {
          "base_uri": "https://localhost:8080/"
        },
        "id": "K1SsPqxK09A9",
        "outputId": "2c5ff08f-add3-4b9e-ea1b-0380b46901f6"
      },
      "execution_count": 97,
      "outputs": [
        {
          "output_type": "execute_result",
          "data": {
            "text/plain": [
              "dict_values([50, 50, 65])"
            ]
          },
          "metadata": {},
          "execution_count": 97
        }
      ]
    },
    {
      "cell_type": "markdown",
      "source": [
        "La salida es `dict_values([50, 50, 65])`, que muestra una vista de los valores del diccionario"
      ],
      "metadata": {
        "id": "2pGU75Zb1GP1"
      }
    },
    {
      "cell_type": "markdown",
      "source": [
        "# **06-Python-Condiciones**"
      ],
      "metadata": {
        "id": "l3b7KyxR1Gon"
      }
    },
    {
      "cell_type": "markdown",
      "source": [
        "a. Escribe una declaración if que determine si un disco musical tiene una calificación mayor a 8. Compruébalo utilizando el calificación del disco “Back in Black” el cual tiene un valor de 8.5. Si la condición es verdadera, imprime “\"This album is Amazing!\"”"
      ],
      "metadata": {
        "id": "z6SeRGx511r3"
      }
    },
    {
      "cell_type": "code",
      "source": [
        "Back_in_Black=8.5\n",
        "if Back_in_Black > 8:\n",
        "  print(\"This album is Amazing!\")\n"
      ],
      "metadata": {
        "colab": {
          "base_uri": "https://localhost:8080/"
        },
        "id": "xmiOjinV2Ei2",
        "outputId": "37109e62-5e76-48a0-de90-e3946299c191"
      },
      "execution_count": 98,
      "outputs": [
        {
          "output_type": "stream",
          "name": "stdout",
          "text": [
            "This album is Amazing!\n"
          ]
        }
      ]
    },
    {
      "cell_type": "markdown",
      "source": [
        "La salida es \"This album is Amazing!\", que se imprime solo si el valor de la variable `Back_in_Black` es mayor que 8, como el valor de `Back_in_Black` es 8.5, por lo que la condición se cumple y se imprime el mensaje"
      ],
      "metadata": {
        "id": "bw2nEWUc2E8q"
      }
    },
    {
      "cell_type": "markdown",
      "source": [
        "b. Escribe una declaración if-else que determine lo siguiente. Si la calificación es mayor que 8 imprime “this album is amazing”. Si es menor o igual a 8 que imprima “this album is ok”."
      ],
      "metadata": {
        "id": "2LjVUFSM2KqF"
      }
    },
    {
      "cell_type": "code",
      "source": [
        "Back_in_Black=6.5\n",
        "if Back_in_Black > 8:\n",
        "  print(\"This album is Amazing!\")\n",
        "elif Back_in_Black <=8:\n",
        "  print(\"this album is ok\")"
      ],
      "metadata": {
        "colab": {
          "base_uri": "https://localhost:8080/"
        },
        "id": "Qa45UvD_2Xxt",
        "outputId": "d4e967a8-acc8-4ea2-ea10-78dc6b76962f"
      },
      "execution_count": 99,
      "outputs": [
        {
          "output_type": "stream",
          "name": "stdout",
          "text": [
            "this album is ok\n"
          ]
        }
      ]
    },
    {
      "cell_type": "markdown",
      "source": [
        "La salida es \"this album is ok\", ya que el valor de la variable `Back_in_Black` es 6.5, lo que no cumple la condición del primer `if`, pero sí cumple la condición del `elif`, por lo que se ejecuta el bloque de código y se imprime \"this album is ok\""
      ],
      "metadata": {
        "id": "XSx3w9qq2hdL"
      }
    },
    {
      "cell_type": "markdown",
      "source": [
        "c. Escribe una declaración if que determine si un disco fue lanzado antes de 1980 o en los años 1991 o 1993. Si la condición es verdadera imprime el año de lanzamiento."
      ],
      "metadata": {
        "id": "sfrrzkcf2XU_"
      }
    },
    {
      "cell_type": "code",
      "source": [
        "año_disco=int(input(\"Ingrese el año en el que fue lanzado el disco \"))\n",
        "\n",
        "\n",
        "if año_disco < 1980 or año_disco== 1991 or año_disco == 1993:\n",
        "  print(\"El año de lanzamiento fue: \\n\", año_disco)"
      ],
      "metadata": {
        "colab": {
          "base_uri": "https://localhost:8080/"
        },
        "id": "u4NQp8jW2x3m",
        "outputId": "6461c9ad-9dec-4109-99a1-72a542c202b7"
      },
      "execution_count": 100,
      "outputs": [
        {
          "output_type": "stream",
          "name": "stdout",
          "text": [
            "Ingrese el año en el que fue lanzado el disco 1979\n",
            "El año de lanzamiento fue: \n",
            " 1979\n"
          ]
        }
      ]
    },
    {
      "cell_type": "markdown",
      "source": [
        "La salida  depende de la entrada proporcionada por el usuario, si el año ingresado (`año_disco`) es menor que 1980, igual a 1991 o igual a 1993, se imprimirá el mensaje \"El año de lanzamiento fue:\" seguido del año ingresado, si el año ingresado no cumple ninguna de estas condiciones, no se imprimirá nada"
      ],
      "metadata": {
        "id": "jh1AYHrE2yRH"
      }
    },
    {
      "cell_type": "markdown",
      "source": [
        "# **07-Python-Bucles**"
      ],
      "metadata": {
        "id": "0VL8vR6H3e01"
      }
    },
    {
      "cell_type": "markdown",
      "source": [
        "a. Escribe un bucle for que imprima todos los elementos entre -5 y 5 usando la función range."
      ],
      "metadata": {
        "id": "4CjErvYH30YS"
      }
    },
    {
      "cell_type": "code",
      "source": [
        "for aux in range(-5,6):\n",
        "  print(aux)\n",
        "\n"
      ],
      "metadata": {
        "colab": {
          "base_uri": "https://localhost:8080/"
        },
        "id": "TsJj6YbX3195",
        "outputId": "38a91fe3-12ef-4cbb-ef45-3ee059f82399"
      },
      "execution_count": 101,
      "outputs": [
        {
          "output_type": "stream",
          "name": "stdout",
          "text": [
            "-5\n",
            "-4\n",
            "-3\n",
            "-2\n",
            "-1\n",
            "0\n",
            "1\n",
            "2\n",
            "3\n",
            "4\n",
            "5\n"
          ]
        }
      ]
    },
    {
      "cell_type": "markdown",
      "source": [
        " el bucle for itera sobre cada valor en el rango de -5 a 5 (incluyendo -5 pero excluyendo 6), imprimiendo cada valor en una línea separada"
      ],
      "metadata": {
        "id": "KJ29QXTV4Bje"
      }
    },
    {
      "cell_type": "markdown",
      "source": [
        "b. Imprime los elementos de la siguiente lista: Genres=[ 'rock', 'R&B', 'Soundtrack', 'R&B', 'soul', 'pop'] Y asegúrate de seguir las convenciones del lenguaje Python"
      ],
      "metadata": {
        "id": "o_4uz_Qc4BU-"
      }
    },
    {
      "cell_type": "code",
      "source": [
        "Genres=[ 'rock', 'R&B', 'Soundtrack', 'R&B', 'soul', 'pop']\n",
        "for i in Genres:\n",
        "  print(i)"
      ],
      "metadata": {
        "colab": {
          "base_uri": "https://localhost:8080/"
        },
        "id": "n4biZ5Zc4FnL",
        "outputId": "46507122-afbf-418d-b184-06d6105116bf"
      },
      "execution_count": 102,
      "outputs": [
        {
          "output_type": "stream",
          "name": "stdout",
          "text": [
            "rock\n",
            "R&B\n",
            "Soundtrack\n",
            "R&B\n",
            "soul\n",
            "pop\n"
          ]
        }
      ]
    },
    {
      "cell_type": "markdown",
      "source": [
        "el bucle for itera sobre cada elemento en la lista Genres e imprime cada elemento en una línea separada\n",
        "\n",
        "\n",
        "\n",
        "\n",
        "\n"
      ],
      "metadata": {
        "id": "vOAunq2F4HoQ"
      }
    },
    {
      "cell_type": "markdown",
      "source": [
        "c. Escribe un bucle for que imprima la siguiente lista: squares=['red', 'yellow', 'green', 'purple', 'blue']"
      ],
      "metadata": {
        "id": "4FUPegVT46C0"
      }
    },
    {
      "cell_type": "code",
      "source": [
        "squares=['red', 'yellow', 'green', 'purple', 'blue']\n",
        "for j in squares:\n",
        "  print(j)"
      ],
      "metadata": {
        "colab": {
          "base_uri": "https://localhost:8080/"
        },
        "id": "kCnXV4Bu4_AS",
        "outputId": "b8ca3e89-d637-4276-dc4b-83c7142f8b00"
      },
      "execution_count": 103,
      "outputs": [
        {
          "output_type": "stream",
          "name": "stdout",
          "text": [
            "red\n",
            "yellow\n",
            "green\n",
            "purple\n",
            "blue\n"
          ]
        }
      ]
    },
    {
      "cell_type": "markdown",
      "source": [
        "el bucle itera sobre cada elemento en la lista squares e imprime cada elemento en una línea separada"
      ],
      "metadata": {
        "id": "A_9h29z75Xsr"
      }
    },
    {
      "cell_type": "markdown",
      "source": [
        "d. Escribe un bucle while que muestre los valores de la calificación de las canciones de un disco almacenados en la lista PlayListRatings. Si la calificación es menor a 6, sal del bucle. La lista PlayListRatings esta compuesta por: PlayListRatings = [10, 9.5, 10, 8, 7.5, 5, 10, 10]"
      ],
      "metadata": {
        "id": "7HmsmEZI5XPf"
      }
    },
    {
      "cell_type": "code",
      "source": [
        "PlayListRatings = [10, 9.5, 10, 8, 7.5, 5, 10, 10]\n",
        "aux2 = 1000000\n",
        "i=0\n",
        "while aux2 > 6:\n",
        "  aux2 = PlayListRatings[i]\n",
        "  if aux2 > 6:\n",
        "    print(aux2)\n",
        "  i = i + 1"
      ],
      "metadata": {
        "colab": {
          "base_uri": "https://localhost:8080/"
        },
        "id": "udeDMqnn5bb7",
        "outputId": "c5bb0a4d-9cb8-4bcf-ec3b-c8d242b1707c"
      },
      "execution_count": 104,
      "outputs": [
        {
          "output_type": "stream",
          "name": "stdout",
          "text": [
            "10\n",
            "9.5\n",
            "10\n",
            "8\n",
            "7.5\n"
          ]
        }
      ]
    },
    {
      "cell_type": "markdown",
      "source": [
        "el bucle while se ejecuta mientras aux2 sea mayor que 6, en cada iteración, aux2 se actualiza con el valor de PlayListRatings[i], sii aux2 sigue siendo mayor que 6, se imprime su valor y luego se incrementa i para pasar al siguiente elemento en la lista PlayListRatings, una vez que aux2 es menor o igual a 6, el bucle termina"
      ],
      "metadata": {
        "id": "BBFuOTpG5n5m"
      }
    },
    {
      "cell_type": "markdown",
      "source": [
        "e. Escribe un bucle while que copie las cadenas 'orange' de la lista squares a la lista new_squares. Detente y sal del ciclo si el valor en la lista no es 'orange':"
      ],
      "metadata": {
        "id": "voPco01J50Gx"
      }
    },
    {
      "cell_type": "code",
      "source": [
        "squares = ['orange', 'orange', 'purple', 'blue ', 'orange']\n",
        "new_squares = []\n",
        "aux2 = 'orange'\n",
        "i=0\n",
        "while aux2 == 'orange':\n",
        "  aux2 = squares[i]\n",
        "  if aux2 == 'orange':\n",
        "    new_squares.append(aux2)\n",
        "  i = i + 1\n",
        "print(new_squares)"
      ],
      "metadata": {
        "colab": {
          "base_uri": "https://localhost:8080/"
        },
        "id": "ncBQ2OAf6IiJ",
        "outputId": "062ad8c9-c859-4b35-b5de-11171fa8a8ad"
      },
      "execution_count": 105,
      "outputs": [
        {
          "output_type": "stream",
          "name": "stdout",
          "text": [
            "['orange', 'orange']\n"
          ]
        }
      ]
    },
    {
      "cell_type": "markdown",
      "source": [
        "el bucle while se ejecuta mientras aux2 sea igual a 'orange', en cada iteración, aux2 se actualiza con el valor de squares[i] entonces i aux2 es igual a 'orange', se agrega a la lista new_squares, una vez que aux2 es diferente de 'orange', el bucle termina"
      ],
      "metadata": {
        "id": "x1QUlUrt6cPQ"
      }
    },
    {
      "cell_type": "markdown",
      "source": [
        "# **08-Funciones-Python**"
      ],
      "metadata": {
        "id": "anLAgG9f6vP9"
      }
    },
    {
      "cell_type": "markdown",
      "source": [
        "a. Cree una función que divida la primera entrada por la segunda entrada:"
      ],
      "metadata": {
        "id": "W51T5ILy634h"
      }
    },
    {
      "cell_type": "code",
      "source": [
        "def div(a,b):\n",
        "  c=a/b\n",
        "  return c\n",
        "\n",
        "a= 10\n",
        "b= 5\n",
        "\n",
        "print(div(a,b))"
      ],
      "metadata": {
        "colab": {
          "base_uri": "https://localhost:8080/"
        },
        "id": "oFVSQmsW66ZM",
        "outputId": "07e6625d-d0e4-49be-d361-77f58fd92a17"
      },
      "execution_count": 106,
      "outputs": [
        {
          "output_type": "stream",
          "name": "stdout",
          "text": [
            "2.0\n"
          ]
        }
      ]
    },
    {
      "cell_type": "markdown",
      "source": [
        "La salida de este código  es 2.0 ya que la función div(a, b) toma dos argumentos a y b, realiza la división c = a / b, y luego retorna el resultado de la división"
      ],
      "metadata": {
        "id": "w1WKu33w66ui"
      }
    },
    {
      "cell_type": "markdown",
      "source": [
        "Utilice la función  con  para la siguiente pregunta.\n",
        "\n",
        "b. ¿Se puede usar la función  con  que definimos antes para agregar números enteros o cadenas?"
      ],
      "metadata": {
        "id": "CXyxBcq07h2h"
      }
    },
    {
      "cell_type": "code",
      "source": [
        "def con(a, b):\n",
        "    return(a + b)\n",
        "\n",
        "a1=1\n",
        "b2=2\n",
        "print(con(a1,b2))\n",
        "\n",
        "a11=\"1\"\n",
        "b22=\"2\"\n",
        "print(con(a11,b22))"
      ],
      "metadata": {
        "colab": {
          "base_uri": "https://localhost:8080/"
        },
        "id": "8trGXpYK7lmX",
        "outputId": "125244cb-491d-4c12-96dc-0162f6c54485"
      },
      "execution_count": 107,
      "outputs": [
        {
          "output_type": "stream",
          "name": "stdout",
          "text": [
            "3\n",
            "12\n"
          ]
        }
      ]
    },
    {
      "cell_type": "markdown",
      "source": [
        "Si se puede usar la función para enteros y cadenas"
      ],
      "metadata": {
        "id": "AWzaAVgU7l_Y"
      }
    },
    {
      "cell_type": "markdown",
      "source": [
        "c. ¿Se puede usar la función  con  que definimos antes para concentrar una lista o tupla?"
      ],
      "metadata": {
        "id": "D_8PBJZS8JLC"
      }
    },
    {
      "cell_type": "code",
      "source": [
        "lista=[1,2,3,4,5]\n",
        "num=[6]\n",
        "print(con(lista, num))"
      ],
      "metadata": {
        "colab": {
          "base_uri": "https://localhost:8080/"
        },
        "id": "ST7s1EAN8RJK",
        "outputId": "9aeb1171-d074-40f8-dbba-cf4e7bd3b395"
      },
      "execution_count": 108,
      "outputs": [
        {
          "output_type": "stream",
          "name": "stdout",
          "text": [
            "[1, 2, 3, 4, 5, 6]\n"
          ]
        }
      ]
    },
    {
      "cell_type": "markdown",
      "source": [
        "Si se puede con la funcion con concatenar listas o tuplas"
      ],
      "metadata": {
        "id": "AXhk0hX18-mM"
      }
    },
    {
      "cell_type": "markdown",
      "source": [
        "# **09_Python_Clases**"
      ],
      "metadata": {
        "id": "KNFZo0rf9NLa"
      }
    },
    {
      "cell_type": "markdown",
      "source": [
        "La clase matplotlib.patches.Ellipse, permite dibujar elipses desde matplotlib. La clase se importa de la siguiente manera:\n",
        "\n",
        "from matplotlib.patchs import Ellipse\n",
        "\n",
        "Se puede dibujar entonces cualquier elipse, dando los argumentos:\n",
        "\n",
        "plt.gca().add_patch(Ellipse(xy, width, height, facecolor = color, edgecolor = edgecolor))\n",
        "\n",
        "Se requiere crear una clase Elipse, la cual el constructor sea con valores iniciales cualesquiera. Adicionalmente, la clase debe tener los siguientes métodos:\n",
        "\n",
        "1.- Cambiar el ancho\n",
        "\n",
        "2.- Cambiar el alto\n",
        "\n",
        "3.- Cambiar el color de relleno\n",
        "\n",
        "4.- Cambiar el color de borde\n",
        "\n",
        "5.- Dibujar"
      ],
      "metadata": {
        "id": "zWNgJ_f29PB5"
      }
    },
    {
      "cell_type": "code",
      "source": [
        "import matplotlib.pyplot as plt\n",
        "from matplotlib.patches import Ellipse\n",
        "\n",
        "class MiElipse:\n",
        "    def __init__(self, xy=(0, 0), width=1, height=1, facecolor='blue', edgecolor='black'):\n",
        "        self.ellipse = Ellipse(xy=xy, width=width, height=height, facecolor=facecolor, edgecolor=edgecolor)\n",
        "\n",
        "    def cambiar_ancho(self, new_width):\n",
        "        self.ellipse.width = new_width\n",
        "\n",
        "    def cambiar_alto(self, new_height):\n",
        "        self.ellipse.height = new_height\n",
        "\n",
        "    def cambiar_color_relleno(self, new_facecolor):\n",
        "        self.ellipse.set_facecolor(new_facecolor)\n",
        "\n",
        "    def cambiar_color_borde(self, new_edgecolor):\n",
        "        self.ellipse.set_edgecolor(new_edgecolor)\n",
        "\n",
        "    def dibujar(self):\n",
        "        plt.gca().add_patch(self.ellipse)\n",
        "        plt.axis('equal')\n",
        "        plt.show()\n",
        "\n",
        "\n",
        "mi_elipse = MiElipse(xy=(2, 2), width=5, height=3)\n",
        "mi_elipse.cambiar_color_relleno('pink')\n",
        "mi_elipse.cambiar_color_borde('black')\n",
        "mi_elipse.dibujar()\n"
      ],
      "metadata": {
        "colab": {
          "base_uri": "https://localhost:8080/",
          "height": 431
        },
        "id": "I44Bq1vr92tK",
        "outputId": "78dbb10e-85d7-46a8-d1e2-198b9a87cb32"
      },
      "execution_count": 109,
      "outputs": [
        {
          "output_type": "display_data",
          "data": {
            "text/plain": [
              "<Figure size 640x480 with 1 Axes>"
            ],
            "image/png": "[encoded data removed]"
          },
          "metadata": {}
        }
      ]
    },
    {
      "cell_type": "markdown",
      "source": [
        "Primero se define una clase llamada `MiElipse` que encapsula la funcionalidad de dibujar una elipse con ciertas características utilizando Matplotlib\n",
        "\n",
        "Se tiene los siguientes métodos:\n",
        "\n",
        "* __init__(): inicializa una instancia de la elipse con las coordenadas, ancho, alto, color de relleno y color de borde especificados\n",
        "* **cambiar_ancho()**: cambia el ancho de la elipse\n",
        "* **cambiar_alto()**: cambia el alto de la elipse\n",
        "* **cambiar_color_relleno()**: cambia el color de relleno de la elipse\n",
        "* **cambiar_color_borde()**: cambia el color del borde de la elipse\n",
        "* **dibujar()**: dibuja la elipse en un gráfico utilizando matplotlib\n",
        "\n",
        "Luego, se crea una instancia de `MiElipse` llamada `mi_elipse` con coordenadas (2, 2), ancho 5 y alto 3, y  se   cambia el color de relleno a 'pink' y el color del borde a 'black'y por último, se llama al método `dibujar()` para mostrar la elipse en un gráfico"
      ],
      "metadata": {
        "id": "C2Cqr515_wux"
      }
    },
    {
      "cell_type": "markdown",
      "source": [
        "# **Práctico_Bono_1**"
      ],
      "metadata": {
        "id": "4sXIHq3gBCEJ"
      }
    },
    {
      "cell_type": "markdown",
      "source": [
        "**CALENTAMIENTO**\n",
        "\n",
        "**MENOR DE DOS PARES: Escriba una función que devuelva el menor de dos números dados si ambos números son pares, pero devuelva el mayor si uno o ambos números son impares**\n",
        "\n",
        "lesser_of_two_evens(2,4) --> 2\n",
        "\n",
        "lesser_of_two_evens(2,5) --> 5"
      ],
      "metadata": {
        "id": "tvJdcrx8BWkk"
      }
    },
    {
      "cell_type": "code",
      "source": [
        "def menor_de_dos_pares(a, b):\n",
        "    if a % 2 == 0 and b % 2 == 0:\n",
        "        return min(a, b)\n",
        "    else:\n",
        "        return max(a, b)\n",
        "\n",
        "print(menor_de_dos_pares(2, 4))\n",
        "print(menor_de_dos_pares(2, 5))"
      ],
      "metadata": {
        "colab": {
          "base_uri": "https://localhost:8080/"
        },
        "id": "1g70nvX9BmBu",
        "outputId": "9f7ab15c-cb3a-4508-93fd-5d42692ea4a9"
      },
      "execution_count": 111,
      "outputs": [
        {
          "output_type": "stream",
          "name": "stdout",
          "text": [
            "2\n",
            "5\n"
          ]
        }
      ]
    },
    {
      "cell_type": "markdown",
      "source": [
        "Para verificar si algún numero es par o impar se utillza modulo (%2) si es igual a 0 significa que el número es par, la función menor_de_dos_pares(a, b) toma dos números como entrada y devuelve el menor de los dos números si ambos son pares, si al menos uno de los números es impar, devuelve el mayor de los dos números"
      ],
      "metadata": {
        "id": "Z_F9UknMBmsy"
      }
    },
    {
      "cell_type": "markdown",
      "source": [
        "**GALLETAS DE ANIMALES: Escribir una función que toma una cadena de dos palabras y devuelve True si ambas palabras comienzan con la misma letra**\n",
        "\n",
        "animal_crackers('Ciudad Calor') --> True\n",
        "\n",
        "animal_crackers('Lugar Frio') --> False"
      ],
      "metadata": {
        "id": "2sbmjXHBCdjf"
      }
    },
    {
      "cell_type": "code",
      "source": [
        "def animal_crackers(cadena):\n",
        "    pal1 = ''\n",
        "    pal2 = ''\n",
        "    espacio = False\n",
        "\n",
        "    for i in cadena:\n",
        "        if i!= ' ':\n",
        "            if not espacio:\n",
        "                pal1 += i\n",
        "            else:\n",
        "                pal2 += i\n",
        "        else:\n",
        "            espacio = True\n",
        "\n",
        "    if pal1[0] == pal2[0]:\n",
        "        return True\n",
        "    else:\n",
        "        return False\n",
        "print(animal_crackers(\"ciudad calor\"))\n",
        "print(animal_crackers(\"lugar frio\"))"
      ],
      "metadata": {
        "colab": {
          "base_uri": "https://localhost:8080/"
        },
        "id": "_kYsL7RgCn96",
        "outputId": "a0640a25-f59f-4947-8117-a81c49666fe4"
      },
      "execution_count": 58,
      "outputs": [
        {
          "output_type": "stream",
          "name": "stdout",
          "text": [
            "True\n",
            "False\n"
          ]
        }
      ]
    },
    {
      "cell_type": "markdown",
      "source": [
        "\n",
        "La función animal_crackers(cadena) verifica si las dos palabras separadas por un espacio en la cadena tienen la misma letra inicial"
      ],
      "metadata": {
        "id": "W-s5l--GCnaa"
      }
    },
    {
      "cell_type": "markdown",
      "source": [
        "**HACE VEINTE: dados dos enteros, devuelve True si la suma de los enteros es 20 o si uno de los enteros es 20. De lo contrario, devuelve False**\n",
        "\n",
        "\n",
        "makes_twenty(20,10) --> True\n",
        "\n",
        "\n",
        "makes_twenty(12,8) --> True\n",
        "\n",
        "makes_twenty(2,3) --> False"
      ],
      "metadata": {
        "id": "iR1yCkFnDv9-"
      }
    },
    {
      "cell_type": "code",
      "source": [
        "def makes_twenty(num1, num2):\n",
        "    if num1 == 20:\n",
        "        return True\n",
        "    elif num2 == 20:\n",
        "        return True\n",
        "    elif num1 + num2 == 20:\n",
        "        return True\n",
        "    else:\n",
        "        return False\n",
        "\n",
        "print(makes_twenty(20, 10))\n",
        "print(makes_twenty(12, 8))\n",
        "print(makes_twenty(2, 3))\n",
        "print(makes_twenty(4, 7))"
      ],
      "metadata": {
        "colab": {
          "base_uri": "https://localhost:8080/"
        },
        "id": "NPq2FSJEDvdG",
        "outputId": "855cee06-d7af-4fb8-cce6-9c0ff9fcc225"
      },
      "execution_count": 59,
      "outputs": [
        {
          "output_type": "stream",
          "name": "stdout",
          "text": [
            "True\n",
            "True\n",
            "False\n",
            "False\n"
          ]
        }
      ]
    },
    {
      "cell_type": "markdown",
      "source": [
        "La función makes_twenty(num1, num2) verifica si uno de los números es 20 o si la suma de ambos números es 20"
      ],
      "metadata": {
        "id": "rHfEtITgEMas"
      }
    },
    {
      "cell_type": "markdown",
      "source": [
        "# **Nivel 1**"
      ],
      "metadata": {
        "id": "avLSnGuvEoHd"
      }
    },
    {
      "cell_type": "markdown",
      "source": [
        "**MAYÚSCULAS: Escribir una función que haga mayúscula la primera y cuarta letra de una cadena de texto**\n",
        "\n",
        "old_macdonald('macdonald') --> MacDonald"
      ],
      "metadata": {
        "id": "AYns1_CqE7Nq"
      }
    },
    {
      "cell_type": "code",
      "source": [
        "def old_macdonald(name):\n",
        "    if len(name) < 4:\n",
        "        return \"La cadena es demasiado corta.\"\n",
        "    else:\n",
        "        primera_parte = name[:3].capitalize()\n",
        "        segunda_parte = name[3:].capitalize()\n",
        "        return primera_parte + segunda_parte\n",
        "\n",
        "print(old_macdonald('macdonald'))"
      ],
      "metadata": {
        "colab": {
          "base_uri": "https://localhost:8080/"
        },
        "id": "8tnVbMRWFDOb",
        "outputId": "e153ff8d-a29e-49b5-d3dd-500dffc613cc"
      },
      "execution_count": 60,
      "outputs": [
        {
          "output_type": "stream",
          "name": "stdout",
          "text": [
            "MacDonald\n"
          ]
        }
      ]
    },
    {
      "cell_type": "markdown",
      "source": [
        "Primero verificamos que la palabra sea lo suficientemente larga para poder hacer el cambio con len(name) y luego ubicamos las posiciones en la cadena, primera letra (posicion 0) y cuarta letra (posicion 3) y las cambiamos a mayúsculas con .capitalize, con la función old_macdonald(name) que cambia a mayusculas las primeras y cuartas letras de una cadena de texto, y devuelve la cadena modificada"
      ],
      "metadata": {
        "id": "GHAtuHoCFKuT"
      }
    },
    {
      "cell_type": "markdown",
      "source": [
        "**REVERSA: Dada una oración, retornar la misma oración pero en reversa**\n",
        "master_yoda('I am home') --> 'home am I'\n",
        "\n",
        "master_yoda('We are ready') --> 'ready are We'\n",
        "\n",
        "Note: Revisar método .join()\n",
        "\n",
        "\"--\".join(['a','b','c'])\n",
        "\n",
        "'a--b--c'\n",
        "\n",
        "Resultado de .join():\n",
        "\n",
        " \" \".join(['Hello','world'])\n",
        "\n",
        " \"Hello world\""
      ],
      "metadata": {
        "id": "KgXC3r71FReC"
      }
    },
    {
      "cell_type": "code",
      "source": [
        "def master_yoda(sentence):\n",
        "    palabras = []\n",
        "    palabra_actual = \"\"\n",
        "    for caracter in sentence:\n",
        "        if caracter != \" \":\n",
        "            palabra_actual += caracter\n",
        "        else:\n",
        "            palabras.append(palabra_actual)\n",
        "            palabra_actual = \"\"\n",
        "    palabras.append(palabra_actual)\n",
        "    oracion_invertida = \" \".join(palabras[::-1])\n",
        "    return oracion_invertida\n",
        "\n",
        "print(master_yoda('I am home'))\n",
        "print(master_yoda('We are ready'))"
      ],
      "metadata": {
        "colab": {
          "base_uri": "https://localhost:8080/"
        },
        "id": "76Ym_NUXF-3r",
        "outputId": "9b9994c2-3eaf-4829-d914-51b8d6d5ad05"
      },
      "execution_count": 61,
      "outputs": [
        {
          "output_type": "stream",
          "name": "stdout",
          "text": [
            "home am I\n",
            "ready are We\n"
          ]
        }
      ]
    },
    {
      "cell_type": "markdown",
      "source": [
        "La función master_yoda(sentence) toma una cadena de texto y la invierte, es decir, devuelve una nueva cadena donde las palabras están en orden invers"
      ],
      "metadata": {
        "id": "mgdRuDc6GFAW"
      }
    },
    {
      "cell_type": "markdown",
      "source": [
        "**NIVEL 2**"
      ],
      "metadata": {
        "id": "vDAyyGAgGE83"
      }
    },
    {
      "cell_type": "markdown",
      "source": [
        "**PROBLEMA 33:**\n",
        "Dada una lista de enteros, retornar True si el arreglo tinene un 3 seguido por un 3 .\n",
        "\n",
        "has_33([1, 3, 3]) → True\n",
        "\n",
        "has_33([1, 3, 1, 3]) → False\n",
        "\n",
        "has_33([3, 1, 3]) → False"
      ],
      "metadata": {
        "id": "JwNEh9-wGEg6"
      }
    },
    {
      "cell_type": "code",
      "source": [
        "def has_33(a):\n",
        "    for i in range(len(a) - 1):\n",
        "        if a[i] == 3 and a[i + 1] == 3:\n",
        "            return True\n",
        "    return False\n",
        "\n",
        "print(has_33([1, 3, 3]))\n",
        "print(has_33([1, 3, 1, 3]))\n",
        "print(has_33([3, 1, 3]))"
      ],
      "metadata": {
        "colab": {
          "base_uri": "https://localhost:8080/"
        },
        "id": "EPJwig6zGlOm",
        "outputId": "9ae4ca64-39bd-45ab-e230-e50d4ba12737"
      },
      "execution_count": 62,
      "outputs": [
        {
          "output_type": "stream",
          "name": "stdout",
          "text": [
            "True\n",
            "False\n",
            "False\n"
          ]
        }
      ]
    },
    {
      "cell_type": "markdown",
      "source": [
        "La función `has_33(a)` verifica si una lista contiene al menos una aparición consecutiva de dos números 3. La salida de este código es `True`, `False`, `False`, respectivamente, ya que en la primera, la lista contiene dos números 3 consecutivos, por lo que devuelve `True`, en la segunda, la lista contiene un 3 seguido de un 1, y luego otro 3, pero no están consecutivos, por lo que retorna un `False`y  en la tercera, la lista no contiene dos números 3 consecutivos entonces devuelve `False`"
      ],
      "metadata": {
        "id": "A7tXtUpZGkZQ"
      }
    },
    {
      "cell_type": "markdown",
      "source": [
        "**REPLICADOR: Dada una cadena, devuelve una cadena donde por cada carácter en el original hay tres caracteres REPETIDOS**\n",
        "\n",
        "paper_doll('Hello') --> 'HHHeeellllllooo'\n",
        "paper_doll('Mississippi') --> 'MMMiiissssssiiippppppiii'"
      ],
      "metadata": {
        "id": "k7XH6bJ6G0gS"
      }
    },
    {
      "cell_type": "code",
      "source": [
        "def paper_doll(cadena):\n",
        "    nueva_cadena = ''\n",
        "    for caracter in cadena:\n",
        "        nueva_cadena += caracter * 3\n",
        "    return nueva_cadena\n",
        "\n",
        "print(paper_doll(\"Hello\"))\n",
        "print(paper_doll(\"Mississippi\"))"
      ],
      "metadata": {
        "colab": {
          "base_uri": "https://localhost:8080/"
        },
        "id": "jgyolsf2G1Uv",
        "outputId": "4413a6fb-0374-4731-a194-392fc07fc5f4"
      },
      "execution_count": 63,
      "outputs": [
        {
          "output_type": "stream",
          "name": "stdout",
          "text": [
            "HHHeeellllllooo\n",
            "MMMiiissssssiiissssssiiippppppiii\n"
          ]
        }
      ]
    },
    {
      "cell_type": "markdown",
      "source": [
        "La función `paper_doll(cadena)` itera sobre cada carácter de la cadena de entrada y triplica cada uno concatenándolos, lo que resulta en una nueva cadena donde cada carácter original se repite tres veces"
      ],
      "metadata": {
        "id": "km1OSCmZG2EV"
      }
    },
    {
      "cell_type": "markdown",
      "source": [
        "**BLACKJACK: Dados tres enteros entre 1 y 11, si su suma es menor o igual a 21, devuelve su suma. Si su suma excede 21 y hay un once, reduce la suma total en 10. Finalmente, si la suma (incluso después del ajuste) excede 21, devuelve 'BUST'**\n",
        "\n",
        "blackjack(5,6,7) --> 18\n",
        "\n",
        "blackjack(9,9,9) --> 'BUST'\n",
        "\n",
        "blackjack(9,9,11) --> 19"
      ],
      "metadata": {
        "id": "0ryIMpcVH0m_"
      }
    },
    {
      "cell_type": "code",
      "source": [
        "def blackjack(a, b, c):\n",
        "    suma_total = a + b + c\n",
        "    if suma_total <= 21:\n",
        "        return suma_total\n",
        "    elif 11 in (a, b, c) and suma_total - 10 <= 21:\n",
        "        return suma_total - 10\n",
        "    else:\n",
        "        return \"BUST\"\n",
        "\n",
        "\n",
        "print(blackjack(5, 6, 7))\n",
        "print(blackjack(9, 9, 9))\n",
        "print(blackjack(9, 9, 11))"
      ],
      "metadata": {
        "colab": {
          "base_uri": "https://localhost:8080/"
        },
        "id": "VU0r-WjzH7mV",
        "outputId": "4cd40296-8488-4eab-cf4c-e4e2cf19d1fb"
      },
      "execution_count": 65,
      "outputs": [
        {
          "output_type": "stream",
          "name": "stdout",
          "text": [
            "18\n",
            "BUST\n",
            "19\n"
          ]
        }
      ]
    },
    {
      "cell_type": "markdown",
      "source": [
        "La función blackjack(a, b, c) suma los tres números proporcionados, si la suma es 21 o menos, devuelve la suma total, si la suma supera 21 pero uno de los números es 11 se devuelve la suma total menos 10, por eso la salida es, 18 ya que 5+6+7=18, 9+9+9= 27 supera 21, entonces el codigo devuelve `BUST`, y por último 9+9+11= 29, pero como hay un 11 se resta 10, dando 19"
      ],
      "metadata": {
        "id": "01QveoVHH786"
      }
    }
  ]
}